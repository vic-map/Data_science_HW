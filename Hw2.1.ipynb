{
 "cells": [
  {
   "cell_type": "markdown",
   "id": "520ab693",
   "metadata": {},
   "source": [
    "## Часть первая: Знакомство с Pandas."
   ]
  },
  {
   "cell_type": "code",
   "execution_count": 1,
   "id": "9c4f8da7",
   "metadata": {},
   "outputs": [],
   "source": [
    "import pandas as pd\n",
    "import numpy as np\n",
    "import requests\n",
    "import matplotlib\n",
    "import matplotlib.pyplot as plt"
   ]
  },
  {
   "cell_type": "code",
   "execution_count": 2,
   "id": "053b91ba",
   "metadata": {},
   "outputs": [],
   "source": [
    "response = requests.get(\n",
    "    \"https://uk.wikipedia.org/wiki/Населення_України#Народжуваність\"\n",
    ")\n",
    "data = pd.read_html(response.text)\n",
    "\n",
    "birth_rate_table = data[10]"
   ]
  },
  {
   "cell_type": "code",
   "execution_count": 3,
   "id": "2ae2aa0c",
   "metadata": {
    "scrolled": true
   },
   "outputs": [
    {
     "name": "stdout",
     "output_type": "stream",
     "text": [
      "               Регіон   1950   1960   1970  1990  2000  2012 2014 2019\n",
      "0                Крим  230.0  206.0  160.0   130    73   126    —    —\n",
      "1           Вінницька  224.0  192.0  142.0   124    84   112  109   76\n",
      "2           Волинська  247.0  250.0  179.0   153   112   148  141  101\n",
      "3    Дніпропетровська  204.0  204.0  151.0   123    71   112  111   71\n",
      "4            Донецька  271.0  214.0  140.0   109    61    98   82    —\n",
      "5         Житомирська  261.0  223.0  159.0   129    89   122  120   79\n",
      "6        Закарпатська  314.0  273.0  207.0   168   115   151  146  104\n",
      "7          Запорізька  219.0  197.0  150.0   124    71   106  106   68\n",
      "8   Івано-Франківська  243.0  248.0  182.0   155   103   124  122   88\n",
      "9            Київська  204.0  189.0  156.0   123    73   122  121   80\n",
      "10     Кіровоградська  216.0  171.0  145.0   126    79   110  108   68\n",
      "11          Луганська  262.0  235.0  144.0   116    62    96   51    —\n",
      "12          Львівська  234.0  240.0  171.0   140    91   119  119   87\n",
      "13       Миколаївська  211.0  194.0  155.0   137    80   115  112   71\n",
      "14            Одеська  241.0  192.0  148.0   126    80   127  123   88\n",
      "15         Полтавська  186.0  163.0  131.0   118    70    99  100   65\n",
      "16         Рівненська  269.0  267.0  193.0   158   118   159  148  107\n",
      "17            Сумська  216.0  184.0  132.0   115    70    97   92   60\n",
      "18      Тернопільська  213.0  216.0  157.0   142    92   113  109   76\n",
      "19         Харківська  197.0  173.0  140.0   114    68    99  101   68\n",
      "20         Херсонська  208.0  214.0  166.0   143    85   117  115   81\n",
      "21        Хмельницька  234.0  198.0  148.0   129    85   113  112   79\n",
      "22          Черкаська  205.0  179.0  144.0   123    75   100   98   64\n",
      "23        Чернівецька  247.0  218.0  170.0   148   101   128  129   92\n",
      "24       Чернігівська  220.0  183.0  127.0   108    69    94   90   61\n",
      "25               Київ    NaN  174.0  159.0   120    73   120  121  110\n",
      "26        Севастополь    NaN    NaN    NaN   125    70   120    —    —\n",
      "27            Україна  228.0  205.0  152.0   126    78   114  111   81\n"
     ]
    }
   ],
   "source": [
    "print(birth_rate_table)"
   ]
  },
  {
   "cell_type": "markdown",
   "id": "d9c101c8",
   "metadata": {},
   "source": [
    "#### Вывести первые строки таблицы с помощью метода head"
   ]
  },
  {
   "cell_type": "code",
   "execution_count": 4,
   "id": "a4fd94f2",
   "metadata": {},
   "outputs": [
    {
     "name": "stdout",
     "output_type": "stream",
     "text": [
      "             Регіон   1950   1960   1970  1990  2000  2012 2014 2019\n",
      "0              Крим  230.0  206.0  160.0   130    73   126    —    —\n",
      "1         Вінницька  224.0  192.0  142.0   124    84   112  109   76\n",
      "2         Волинська  247.0  250.0  179.0   153   112   148  141  101\n",
      "3  Дніпропетровська  204.0  204.0  151.0   123    71   112  111   71\n",
      "4          Донецька  271.0  214.0  140.0   109    61    98   82    —\n"
     ]
    }
   ],
   "source": [
    "print(birth_rate_table.head())"
   ]
  },
  {
   "cell_type": "markdown",
   "id": "ec0c7c59",
   "metadata": {},
   "source": [
    "#### Определите количество строк и столбцов в датафрейме (атрибут shape)"
   ]
  },
  {
   "cell_type": "code",
   "execution_count": 5,
   "id": "18914368",
   "metadata": {},
   "outputs": [
    {
     "name": "stdout",
     "output_type": "stream",
     "text": [
      "(28, 9)\n"
     ]
    }
   ],
   "source": [
    "print(birth_rate_table.shape)"
   ]
  },
  {
   "cell_type": "markdown",
   "id": "240d21d2",
   "metadata": {},
   "source": [
    "#### Замените в таблице значения \"—\" на значения NaN"
   ]
  },
  {
   "cell_type": "code",
   "execution_count": 6,
   "id": "b7df83a6",
   "metadata": {},
   "outputs": [
    {
     "name": "stdout",
     "output_type": "stream",
     "text": [
      "               Регіон   1950   1960   1970  1990  2000  2012 2014 2019\n",
      "0                Крим  230.0  206.0  160.0   130    73   126  NaN  NaN\n",
      "1           Вінницька  224.0  192.0  142.0   124    84   112  109   76\n",
      "2           Волинська  247.0  250.0  179.0   153   112   148  141  101\n",
      "3    Дніпропетровська  204.0  204.0  151.0   123    71   112  111   71\n",
      "4            Донецька  271.0  214.0  140.0   109    61    98   82  NaN\n",
      "5         Житомирська  261.0  223.0  159.0   129    89   122  120   79\n",
      "6        Закарпатська  314.0  273.0  207.0   168   115   151  146  104\n",
      "7          Запорізька  219.0  197.0  150.0   124    71   106  106   68\n",
      "8   Івано-Франківська  243.0  248.0  182.0   155   103   124  122   88\n",
      "9            Київська  204.0  189.0  156.0   123    73   122  121   80\n",
      "10     Кіровоградська  216.0  171.0  145.0   126    79   110  108   68\n",
      "11          Луганська  262.0  235.0  144.0   116    62    96   51  NaN\n",
      "12          Львівська  234.0  240.0  171.0   140    91   119  119   87\n",
      "13       Миколаївська  211.0  194.0  155.0   137    80   115  112   71\n",
      "14            Одеська  241.0  192.0  148.0   126    80   127  123   88\n",
      "15         Полтавська  186.0  163.0  131.0   118    70    99  100   65\n",
      "16         Рівненська  269.0  267.0  193.0   158   118   159  148  107\n",
      "17            Сумська  216.0  184.0  132.0   115    70    97   92   60\n",
      "18      Тернопільська  213.0  216.0  157.0   142    92   113  109   76\n",
      "19         Харківська  197.0  173.0  140.0   114    68    99  101   68\n",
      "20         Херсонська  208.0  214.0  166.0   143    85   117  115   81\n",
      "21        Хмельницька  234.0  198.0  148.0   129    85   113  112   79\n",
      "22          Черкаська  205.0  179.0  144.0   123    75   100   98   64\n",
      "23        Чернівецька  247.0  218.0  170.0   148   101   128  129   92\n",
      "24       Чернігівська  220.0  183.0  127.0   108    69    94   90   61\n",
      "25               Київ    NaN  174.0  159.0   120    73   120  121  110\n",
      "26        Севастополь    NaN    NaN    NaN   125    70   120  NaN  NaN\n",
      "27            Україна  228.0  205.0  152.0   126    78   114  111   81\n"
     ]
    }
   ],
   "source": [
    "birth_rate_table.replace('—', np.nan, inplace=True)\n",
    "print(birth_rate_table)"
   ]
  },
  {
   "cell_type": "markdown",
   "id": "a0ca03fd",
   "metadata": {},
   "source": [
    "#### Определите типы всех столбцов с помощью dataframe.dtypes"
   ]
  },
  {
   "cell_type": "code",
   "execution_count": 7,
   "id": "32498afc",
   "metadata": {},
   "outputs": [
    {
     "name": "stdout",
     "output_type": "stream",
     "text": [
      "Регіон     object\n",
      "1950      float64\n",
      "1960      float64\n",
      "1970      float64\n",
      "1990        int64\n",
      "2000        int64\n",
      "2012        int64\n",
      "2014       object\n",
      "2019       object\n",
      "dtype: object\n"
     ]
    }
   ],
   "source": [
    "print(birth_rate_table.dtypes)"
   ]
  },
  {
   "cell_type": "markdown",
   "id": "94bf1b19",
   "metadata": {},
   "source": [
    "#### Замените типы не числовых колонок на числовые. Подсказка - это колонки где находился символ \"—\""
   ]
  },
  {
   "cell_type": "code",
   "execution_count": 8,
   "id": "c19f53c6",
   "metadata": {},
   "outputs": [
    {
     "name": "stdout",
     "output_type": "stream",
     "text": [
      "Регіон     object\n",
      "1950      float64\n",
      "1960      float64\n",
      "1970      float64\n",
      "1990        int64\n",
      "2000        int64\n",
      "2012        int64\n",
      "2014      float64\n",
      "2019      float64\n",
      "dtype: object\n"
     ]
    }
   ],
   "source": [
    "birth_rate_table['2014'] = birth_rate_table['2014'].apply(pd.to_numeric)\n",
    "birth_rate_table['2019'] = birth_rate_table['2019'].apply(pd.to_numeric)\n",
    "print(birth_rate_table.dtypes)"
   ]
  },
  {
   "cell_type": "markdown",
   "id": "7ec1cdc5",
   "metadata": {},
   "source": [
    "#### Посчитайте, какая доля пропусков содержится в каждой колонке (используйте методы isnull и sum)"
   ]
  },
  {
   "cell_type": "code",
   "execution_count": 9,
   "id": "b0ad9e1f",
   "metadata": {},
   "outputs": [
    {
     "name": "stdout",
     "output_type": "stream",
     "text": [
      "Регіон    0\n",
      "1950      2\n",
      "1960      1\n",
      "1970      1\n",
      "1990      0\n",
      "2000      0\n",
      "2012      0\n",
      "2014      2\n",
      "2019      4\n",
      "dtype: int64\n",
      "Регіон     0.000000\n",
      "1950       7.142857\n",
      "1960       3.571429\n",
      "1970       3.571429\n",
      "1990       0.000000\n",
      "2000       0.000000\n",
      "2012       0.000000\n",
      "2014       7.142857\n",
      "2019      14.285714\n",
      "dtype: float64\n"
     ]
    }
   ],
   "source": [
    "nan_quantity = birth_rate_table.isnull().sum()\n",
    "nan_persentage = birth_rate_table.isnull().sum() / 28 * 100\n",
    "print(nan_quantity)\n",
    "print(nan_persentage)"
   ]
  },
  {
   "cell_type": "markdown",
   "id": "e6975b02",
   "metadata": {},
   "source": [
    "#### Удалите из таблицы данные по всей стране, последняя строчка таблицы"
   ]
  },
  {
   "cell_type": "code",
   "execution_count": 10,
   "id": "58fe78c5",
   "metadata": {},
   "outputs": [
    {
     "name": "stdout",
     "output_type": "stream",
     "text": [
      "               Регіон   1950   1960   1970  1990  2000  2012   2014   2019\n",
      "0                Крим  230.0  206.0  160.0   130    73   126    NaN    NaN\n",
      "1           Вінницька  224.0  192.0  142.0   124    84   112  109.0   76.0\n",
      "2           Волинська  247.0  250.0  179.0   153   112   148  141.0  101.0\n",
      "3    Дніпропетровська  204.0  204.0  151.0   123    71   112  111.0   71.0\n",
      "4            Донецька  271.0  214.0  140.0   109    61    98   82.0    NaN\n",
      "5         Житомирська  261.0  223.0  159.0   129    89   122  120.0   79.0\n",
      "6        Закарпатська  314.0  273.0  207.0   168   115   151  146.0  104.0\n",
      "7          Запорізька  219.0  197.0  150.0   124    71   106  106.0   68.0\n",
      "8   Івано-Франківська  243.0  248.0  182.0   155   103   124  122.0   88.0\n",
      "9            Київська  204.0  189.0  156.0   123    73   122  121.0   80.0\n",
      "10     Кіровоградська  216.0  171.0  145.0   126    79   110  108.0   68.0\n",
      "11          Луганська  262.0  235.0  144.0   116    62    96   51.0    NaN\n",
      "12          Львівська  234.0  240.0  171.0   140    91   119  119.0   87.0\n",
      "13       Миколаївська  211.0  194.0  155.0   137    80   115  112.0   71.0\n",
      "14            Одеська  241.0  192.0  148.0   126    80   127  123.0   88.0\n",
      "15         Полтавська  186.0  163.0  131.0   118    70    99  100.0   65.0\n",
      "16         Рівненська  269.0  267.0  193.0   158   118   159  148.0  107.0\n",
      "17            Сумська  216.0  184.0  132.0   115    70    97   92.0   60.0\n",
      "18      Тернопільська  213.0  216.0  157.0   142    92   113  109.0   76.0\n",
      "19         Харківська  197.0  173.0  140.0   114    68    99  101.0   68.0\n",
      "20         Херсонська  208.0  214.0  166.0   143    85   117  115.0   81.0\n",
      "21        Хмельницька  234.0  198.0  148.0   129    85   113  112.0   79.0\n",
      "22          Черкаська  205.0  179.0  144.0   123    75   100   98.0   64.0\n",
      "23        Чернівецька  247.0  218.0  170.0   148   101   128  129.0   92.0\n",
      "24       Чернігівська  220.0  183.0  127.0   108    69    94   90.0   61.0\n",
      "25               Київ    NaN  174.0  159.0   120    73   120  121.0  110.0\n",
      "26        Севастополь    NaN    NaN    NaN   125    70   120    NaN    NaN\n"
     ]
    }
   ],
   "source": [
    "birth_rate_table_regions = birth_rate_table.drop([27])\n",
    "print(birth_rate_table_regions)"
   ]
  },
  {
   "cell_type": "markdown",
   "id": "077d809c",
   "metadata": {},
   "source": [
    "#### Замените отсутствующие данные в столбцах средними значениями по этим столбцам (метод fillna)"
   ]
  },
  {
   "cell_type": "code",
   "execution_count": 11,
   "id": "d987c7f8",
   "metadata": {},
   "outputs": [
    {
     "name": "stdout",
     "output_type": "stream",
     "text": [
      "               Регіон    1950        1960   1970  1990  2000  2012    2014  \\\n",
      "0                Крим  230.00  206.000000  160.0   130    73   126  111.44   \n",
      "1           Вінницька  224.00  192.000000  142.0   124    84   112  109.00   \n",
      "2           Волинська  247.00  250.000000  179.0   153   112   148  141.00   \n",
      "3    Дніпропетровська  204.00  204.000000  151.0   123    71   112  111.00   \n",
      "4            Донецька  271.00  214.000000  140.0   109    61    98   82.00   \n",
      "5         Житомирська  261.00  223.000000  159.0   129    89   122  120.00   \n",
      "6        Закарпатська  314.00  273.000000  207.0   168   115   151  146.00   \n",
      "7          Запорізька  219.00  197.000000  150.0   124    71   106  106.00   \n",
      "8   Івано-Франківська  243.00  248.000000  182.0   155   103   124  122.00   \n",
      "9            Київська  204.00  189.000000  156.0   123    73   122  121.00   \n",
      "10     Кіровоградська  216.00  171.000000  145.0   126    79   110  108.00   \n",
      "11          Луганська  262.00  235.000000  144.0   116    62    96   51.00   \n",
      "12          Львівська  234.00  240.000000  171.0   140    91   119  119.00   \n",
      "13       Миколаївська  211.00  194.000000  155.0   137    80   115  112.00   \n",
      "14            Одеська  241.00  192.000000  148.0   126    80   127  123.00   \n",
      "15         Полтавська  186.00  163.000000  131.0   118    70    99  100.00   \n",
      "16         Рівненська  269.00  267.000000  193.0   158   118   159  148.00   \n",
      "17            Сумська  216.00  184.000000  132.0   115    70    97   92.00   \n",
      "18      Тернопільська  213.00  216.000000  157.0   142    92   113  109.00   \n",
      "19         Харківська  197.00  173.000000  140.0   114    68    99  101.00   \n",
      "20         Херсонська  208.00  214.000000  166.0   143    85   117  115.00   \n",
      "21        Хмельницька  234.00  198.000000  148.0   129    85   113  112.00   \n",
      "22          Черкаська  205.00  179.000000  144.0   123    75   100   98.00   \n",
      "23        Чернівецька  247.00  218.000000  170.0   148   101   128  129.00   \n",
      "24       Чернігівська  220.00  183.000000  127.0   108    69    94   90.00   \n",
      "25               Київ  231.04  174.000000  159.0   120    73   120  121.00   \n",
      "26        Севастополь  231.04  207.576923  156.0   125    70   120  111.44   \n",
      "27            Україна  228.00  205.000000  152.0   126    78   114  111.00   \n",
      "\n",
      "          2019  \n",
      "0    80.173913  \n",
      "1    76.000000  \n",
      "2   101.000000  \n",
      "3    71.000000  \n",
      "4    80.173913  \n",
      "5    79.000000  \n",
      "6   104.000000  \n",
      "7    68.000000  \n",
      "8    88.000000  \n",
      "9    80.000000  \n",
      "10   68.000000  \n",
      "11   80.173913  \n",
      "12   87.000000  \n",
      "13   71.000000  \n",
      "14   88.000000  \n",
      "15   65.000000  \n",
      "16  107.000000  \n",
      "17   60.000000  \n",
      "18   76.000000  \n",
      "19   68.000000  \n",
      "20   81.000000  \n",
      "21   79.000000  \n",
      "22   64.000000  \n",
      "23   92.000000  \n",
      "24   61.000000  \n",
      "25  110.000000  \n",
      "26   80.173913  \n",
      "27   81.000000  \n"
     ]
    }
   ],
   "source": [
    "print(\n",
    "    birth_rate_table.fillna({\n",
    "    '1950': birth_rate_table_regions['1950'].mean(),\n",
    "    '1960': birth_rate_table_regions['1960'].mean(),\n",
    "    '1970': birth_rate_table_regions['1970'].mean(),\n",
    "    '1990': birth_rate_table_regions['1990'].mean(),\n",
    "    '2000': birth_rate_table_regions['2000'].mean(),\n",
    "    '2012': birth_rate_table_regions['2012'].mean(),\n",
    "    '2014': birth_rate_table_regions['2014'].mean(),\n",
    "    '2019': birth_rate_table_regions['2019'].mean()})\n",
    "    )"
   ]
  },
  {
   "cell_type": "markdown",
   "id": "f628de89",
   "metadata": {},
   "source": [
    "#### Получите список регионов, где уровень рождаемости в 2019 году был выше среднего по Украине"
   ]
  },
  {
   "cell_type": "code",
   "execution_count": 12,
   "id": "03c682ba",
   "metadata": {},
   "outputs": [
    {
     "name": "stdout",
     "output_type": "stream",
     "text": [
      "2     101.0\n",
      "6     104.0\n",
      "8      88.0\n",
      "12     87.0\n",
      "14     88.0\n",
      "16    107.0\n",
      "23     92.0\n",
      "25    110.0\n",
      "Name: 2019, dtype: float64\n"
     ]
    }
   ],
   "source": [
    "print(\n",
    "    birth_rate_table['2019'][\n",
    "        birth_rate_table['2019'] > birth_rate_table['2019'].loc[27]\n",
    "    ]\n",
    ")"
   ]
  },
  {
   "cell_type": "markdown",
   "id": "8509948e",
   "metadata": {},
   "source": [
    "#### В каком регионе была самая высокая рождаемость в 2014 году?"
   ]
  },
  {
   "cell_type": "code",
   "execution_count": 13,
   "id": "4ea5926b",
   "metadata": {},
   "outputs": [
    {
     "name": "stdout",
     "output_type": "stream",
     "text": [
      "16    Рівненська\n",
      "Name: Регіон, dtype: object\n"
     ]
    }
   ],
   "source": [
    "print(\n",
    "    birth_rate_table['Регіон'][birth_rate_table['2014'] == birth_rate_table['2014'].max()]\n",
    ")"
   ]
  },
  {
   "cell_type": "markdown",
   "id": "6b1d3f0c",
   "metadata": {},
   "source": [
    "#### Постройте столбцовую диаграмму рождаемости по регионам в 2019 году"
   ]
  },
  {
   "cell_type": "code",
   "execution_count": 14,
   "id": "1f0255e9",
   "metadata": {
    "scrolled": true
   },
   "outputs": [
    {
     "data": {
      "image/png": "[encoded data removed]",
      "text/plain": [
       "<Figure size 432x288 with 1 Axes>"
      ]
     },
     "metadata": {
      "needs_background": "light"
     },
     "output_type": "display_data"
    }
   ],
   "source": [
    "birth_rate_table['2019'].plot(kind='bar')\n",
    "plt.show()"
   ]
  },
  {
   "cell_type": "code",
   "execution_count": 15,
   "id": "d21aa270",
   "metadata": {},
   "outputs": [
    {
     "data": {
      "image/png": "[encoded data removed]",
      "text/plain": [
       "<Figure size 432x288 with 1 Axes>"
      ]
     },
     "metadata": {
      "needs_background": "light"
     },
     "output_type": "display_data"
    }
   ],
   "source": [
    "plt.bar(birth_rate_table['Регіон'], birth_rate_table['2019'] )\n",
    "plt.show()"
   ]
  }
 ],
 "metadata": {
  "kernelspec": {
   "display_name": "Python 3 (ipykernel)",
   "language": "python",
   "name": "python3"
  },
  "language_info": {
   "codemirror_mode": {
    "name": "ipython",
    "version": 3
   },
   "file_extension": ".py",
   "mimetype": "text/x-python",
   "name": "python",
   "nbconvert_exporter": "python",
   "pygments_lexer": "ipython3",
   "version": "3.10.0"
  }
 },
 "nbformat": 4,
 "nbformat_minor": 5
}
