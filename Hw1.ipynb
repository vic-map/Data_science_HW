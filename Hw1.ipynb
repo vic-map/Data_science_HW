{
 "cells": [
  {
   "cell_type": "code",
   "execution_count": 30,
   "id": "27847e55",
   "metadata": {
    "scrolled": true
   },
   "outputs": [],
   "source": [
    "import numpy as np"
   ]
  },
  {
   "cell_type": "code",
   "execution_count": 9,
   "id": "0191fd9d",
   "metadata": {},
   "outputs": [
    {
     "name": "stdout",
     "output_type": "stream",
     "text": [
      "[[10000.]\n",
      " [25000.]\n",
      " [15000.]]\n"
     ]
    }
   ],
   "source": [
    "# 1\n",
    "a = np.matrix (\"1, 1, 1; 0.05, 0.07, 0; 0.05, 0, 0.06\")\n",
    "b = np.matrix (\"50000; 2250; 1400\")\n",
    "a_inv = np.linalg.inv(a)\n",
    "x = a_inv.dot(b)\n",
    "print(x)"
   ]
  },
  {
   "cell_type": "code",
   "execution_count": 10,
   "id": "9375fc2b",
   "metadata": {},
   "outputs": [
    {
     "name": "stdout",
     "output_type": "stream",
     "text": [
      "[[436.]\n",
      " [556.]\n",
      " [336.]]\n"
     ]
    }
   ],
   "source": [
    "# 2\n",
    "a = np.matrix (\"1,1,1;1,-1,0;1,0,-1\")\n",
    "b = np.matrix (\"1328;-120;100\")\n",
    "a_inv = np.linalg.inv(a)\n",
    "x = a_inv.dot(b)\n",
    "print(x)"
   ]
  },
  {
   "cell_type": "code",
   "execution_count": 20,
   "id": "b2030759",
   "metadata": {},
   "outputs": [
    {
     "name": "stdout",
     "output_type": "stream",
     "text": [
      "[[13.5       ]\n",
      " [ 0.45      ]\n",
      " [ 3.85714286]]\n"
     ]
    }
   ],
   "source": [
    "# 3\n",
    "A = np.matrix (\"3,0,3;6,0.25,0;1,(0.3),1\")\n",
    "B = np.matrix (\"1;1;1\")\n",
    "A_inv = np.linalg.inv(A)\n",
    "X = A_inv.dot(B)\n",
    "print(1/X)"
   ]
  },
  {
   "cell_type": "code",
   "execution_count": 22,
   "id": "ee6a8b83",
   "metadata": {},
   "outputs": [
    {
     "name": "stdout",
     "output_type": "stream",
     "text": [
      "[[4.]\n",
      " [5.]\n",
      " [3.]]\n"
     ]
    }
   ],
   "source": [
    "# 4\n",
    "a = np.matrix (\"1,1,1;9,3,1;1,-1,1\")\n",
    "b = np.matrix(\"12;54;2\")\n",
    "a_inv = np.linalg.inv(a)\n",
    "x = a_inv.dot(b)\n",
    "print(x)"
   ]
  },
  {
   "cell_type": "code",
   "execution_count": 28,
   "id": "99b8a295",
   "metadata": {},
   "outputs": [
    {
     "name": "stdout",
     "output_type": "stream",
     "text": [
      "[[4.]\n",
      " [5.]\n",
      " [3.]]\n"
     ]
    }
   ],
   "source": [
    "# 5\n",
    "def get_polynom(coords):\n",
    "    a_matr = ''\n",
    "    b_matr = ''\n",
    "    for point in coords:\n",
    "        x = point[0]\n",
    "        y = point[1]\n",
    "        a_matr += ','.join([f'{x*x}', f'{x}', '1'])+';'\n",
    "        b_matr += f'{y}' + ';'\n",
    "    a = np.matrix(a_matr.rstrip(';'))\n",
    "    b = np.matrix(b_matr.rstrip(';'))\n",
    "    return np.linalg.solve (a,b)\n",
    "\n",
    "coords = [(1,12), (3,54), (-1,2)]\n",
    "print(get_polynom(coords))"
   ]
  }
 ],
 "metadata": {
  "kernelspec": {
   "display_name": "Python 3 (ipykernel)",
   "language": "python",
   "name": "python3"
  },
  "language_info": {
   "codemirror_mode": {
    "name": "ipython",
    "version": 3
   },
   "file_extension": ".py",
   "mimetype": "text/x-python",
   "name": "python",
   "nbconvert_exporter": "python",
   "pygments_lexer": "ipython3",
   "version": "3.10.2"
  }
 },
 "nbformat": 4,
 "nbformat_minor": 5
}
