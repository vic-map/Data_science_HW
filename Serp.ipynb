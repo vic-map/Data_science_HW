{
 "cells": [
  {
   "cell_type": "code",
   "execution_count": null,
   "id": "f54c4c07",
   "metadata": {},
   "outputs": [],
   "source": [
    "import matplotlib\n",
    "import matplotlib.pyplot as plt\n",
    "import random\n",
    "\n",
    "HEIGHT = 1000\n",
    "WIDTH = 1000\n",
    "LIMIT = 10000\n",
    "\n",
    "A = [0, 0]\n",
    "B = [WIDTH/2, HEIGHT]\n",
    "C = [WIDTH, 0]\n",
    "\n",
    "x = [A[0], B[0], C[0]]\n",
    "y = [A[1], B[1], C[1]]\n",
    "\n",
    "\n",
    "def randomize(WIDTH,HEIGHT):\n",
    "    point = [random.randint(0, WIDTH), random.randint(0, HEIGHT)]\n",
    "    return point\n",
    "\n",
    "def square(tp_1, tp_2, tp_3):\n",
    "    s = abs((tp_2[0]-tp_1[0]) * (tp_3[1]-tp_1[1]) - (tp_2[1]-tp_1[1])*(tp_3[0]-tp_1[0]))\n",
    "    return s\n",
    "\n",
    "def compare(point, A, B, C):\n",
    "    if (square(A,B,point) + square(A,point,C) + square(point,B,C)) <= square(A,B,C):\n",
    "        plotter(point)\n",
    "    else:\n",
    "        randomize(WIDTH,HEIGHT)\n",
    "        compare(point, A, B, C)\n",
    "    \n",
    "def plotter(point):\n",
    "    counter = 0\n",
    "    dot = [0, 0]\n",
    "    while counter<LIMIT:\n",
    "        counter+=1\n",
    "        corner = random.choice([A,B,C])\n",
    "        dot[0] = (point[0] + corner[0]) / 2\n",
    "        dot[1] = (point[1] + corner[1]) / 2\n",
    "        x.append(dot[0])\n",
    "        y.append(dot[1])\n",
    "        point = dot\n",
    "            \n",
    "point = randomize(WIDTH,HEIGHT)\n",
    "compare(point, A, B, C)\n",
    "print('done')\n",
    "plt.scatter(x,y)\n",
    "plt.show()\n"
   ]
  },
  {
   "cell_type": "code",
   "execution_count": null,
   "id": "fc93523a",
   "metadata": {},
   "outputs": [],
   "source": []
  }
 ],
 "metadata": {
  "kernelspec": {
   "display_name": "Python 3 (ipykernel)",
   "language": "python",
   "name": "python3"
  },
  "language_info": {
   "codemirror_mode": {
    "name": "ipython",
    "version": 3
   },
   "file_extension": ".py",
   "mimetype": "text/x-python",
   "name": "python",
   "nbconvert_exporter": "python",
   "pygments_lexer": "ipython3",
   "version": "3.10.2"
  }
 },
 "nbformat": 4,
 "nbformat_minor": 5
}
