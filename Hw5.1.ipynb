{
 "cells": [
  {
   "cell_type": "code",
   "execution_count": 1,
   "id": "3fe89f45",
   "metadata": {},
   "outputs": [],
   "source": [
    "import scipy\n",
    "from scipy import optimize\n",
    "from scipy import integrate\n",
    "import numpy as np"
   ]
  },
  {
   "cell_type": "code",
   "execution_count": 2,
   "id": "7386cae6",
   "metadata": {},
   "outputs": [],
   "source": [
    "def perimeter(a):\n",
    "    return 2 * a + 1000 / a"
   ]
  },
  {
   "cell_type": "code",
   "execution_count": 3,
   "id": "9b6c4c38",
   "metadata": {},
   "outputs": [
    {
     "data": {
      "text/plain": [
       "      fun: 89.44271910006722\n",
       " hess_inv: array([[5.55212942]])\n",
       "      jac: array([-5.7220459e-06])\n",
       "  message: 'Optimization terminated successfully.'\n",
       "     nfev: 32\n",
       "      nit: 15\n",
       "     njev: 16\n",
       "   status: 0\n",
       "  success: True\n",
       "        x: array([22.3606507])"
      ]
     },
     "execution_count": 3,
     "metadata": {},
     "output_type": "execute_result"
    }
   ],
   "source": [
    "optimize.minimize(perimeter, 1)"
   ]
  },
  {
   "cell_type": "code",
   "execution_count": 4,
   "id": "af14741c",
   "metadata": {},
   "outputs": [],
   "source": [
    "def perim(args):\n",
    "    a, b = args\n",
    "    b = 1000 / a\n",
    "    return 2 * a + b"
   ]
  },
  {
   "cell_type": "code",
   "execution_count": 5,
   "id": "e9795614",
   "metadata": {},
   "outputs": [
    {
     "data": {
      "text/plain": [
       "     fun: 89.4427191011592\n",
       "     jac: array([-2.00271606e-05,  0.00000000e+00])\n",
       " message: 'Optimization terminated successfully'\n",
       "    nfev: 21\n",
       "     nit: 7\n",
       "    njev: 7\n",
       "  status: 0\n",
       " success: True\n",
       "       x: array([22.36056552, 10.        ])"
      ]
     },
     "execution_count": 5,
     "metadata": {},
     "output_type": "execute_result"
    }
   ],
   "source": [
    "abounds = (1, 1000)\n",
    "bbounds = (1, 1000)\n",
    "bounds = (abounds,bbounds)\n",
    "optimize.minimize(perim, [10, 10], bounds=bounds, method='slsqp')"
   ]
  },
  {
   "cell_type": "code",
   "execution_count": 6,
   "id": "e1d20b3e",
   "metadata": {},
   "outputs": [
    {
     "data": {
      "text/plain": [
       "     fun: 89.44271910067533\n",
       "   maxcv: 0.0\n",
       " message: 'Optimization terminated successfully.'\n",
       "    nfev: 42\n",
       "  status: 1\n",
       " success: True\n",
       "       x: array([22.36076721, 10.69219457])"
      ]
     },
     "execution_count": 6,
     "metadata": {},
     "output_type": "execute_result"
    }
   ],
   "source": [
    "optimize.minimize(perim, [10, 10], method='cobyla')"
   ]
  },
  {
   "cell_type": "code",
   "execution_count": 7,
   "id": "1483b843",
   "metadata": {},
   "outputs": [
    {
     "data": {
      "text/plain": [
       "     fun: 89.44271910067533\n",
       "   maxcv: 0.0\n",
       " message: 'Optimization terminated successfully.'\n",
       "    nfev: 42\n",
       "  status: 1\n",
       " success: True\n",
       "       x: array([22.36076721, 10.69219457])"
      ]
     },
     "execution_count": 7,
     "metadata": {},
     "output_type": "execute_result"
    }
   ],
   "source": [
    "def perim_cons(a):        \n",
    "    return 2 * a + 1000/a\n",
    "cons = [{'type': 'ineq', 'fun': lambda a: a}]\n",
    "optimize.minimize(perim, [10,10], constraints=cons, method='cobyla')"
   ]
  }
 ],
 "metadata": {
  "kernelspec": {
   "display_name": "Python 3 (ipykernel)",
   "language": "python",
   "name": "python3"
  },
  "language_info": {
   "codemirror_mode": {
    "name": "ipython",
    "version": 3
   },
   "file_extension": ".py",
   "mimetype": "text/x-python",
   "name": "python",
   "nbconvert_exporter": "python",
   "pygments_lexer": "ipython3",
   "version": "3.10.2"
  }
 },
 "nbformat": 4,
 "nbformat_minor": 5
}
