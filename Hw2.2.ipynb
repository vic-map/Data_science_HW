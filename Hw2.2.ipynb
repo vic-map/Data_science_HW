{
 "cells": [
  {
   "cell_type": "markdown",
   "id": "4df1cc45",
   "metadata": {},
   "source": [
    "### Часть вторая: Анализ файлов"
   ]
  },
  {
   "cell_type": "code",
   "execution_count": 4,
   "id": "470cddad",
   "metadata": {},
   "outputs": [],
   "source": [
    "import pandas as pd"
   ]
  },
  {
   "cell_type": "markdown",
   "id": "25fc6921",
   "metadata": {},
   "source": [
    " #### Прочитайте файл 2017_jun_final.csv с помощью метода read_csv"
   ]
  },
  {
   "cell_type": "code",
   "execution_count": 5,
   "id": "152504f2",
   "metadata": {},
   "outputs": [
    {
     "name": "stdout",
     "output_type": "stream",
     "text": [
      "         N                 Должность Язык.программирования Специализация  \\\n",
      "0        1        Junior QA engineer                   NaN     Manual QA   \n",
      "1        2        Junior QA engineer                   NaN     Manual QA   \n",
      "2        3         Software Engineer               C#/.NET           NaN   \n",
      "3        4         Software Engineer            JavaScript           NaN   \n",
      "4        5  Senior Software Engineer            JavaScript           NaN   \n",
      "...    ...                       ...                   ...           ...   \n",
      "8699  8700               QA engineer                   NaN     Manual QA   \n",
      "8700  8701                 Marketing                   NaN           NaN   \n",
      "8701  8702  Junior Software Engineer            Ruby/Rails           NaN   \n",
      "8702  8703                 Team lead                   NaN           NaN   \n",
      "8703  8704  Senior Software Engineer                  Java           NaN   \n",
      "\n",
      "     Общий.опыт.работы Опыт.работы.на.текущем.месте  Зарплата.в.месяц  \\\n",
      "0                  0.5                          0.5               400   \n",
      "1     меньше 3 месяцев             меньше 3 месяцев               430   \n",
      "2                    4                            1              2500   \n",
      "3                    5                            4              2000   \n",
      "4       10 и более лет                          0.5              4500   \n",
      "...                ...                          ...               ...   \n",
      "8699                 1             меньше 3 месяцев               700   \n",
      "8700               0.5                          0.5               400   \n",
      "8701                 1                          0.5               800   \n",
      "8702                 6                            4              2600   \n",
      "8703                 7                            2              5000   \n",
      "\n",
      "      Изменение.зарплаты.за.12.месяцев    Город     Размер.компании  ...  \\\n",
      "0                                    0  Харьков       до 10 человек  ...   \n",
      "1                                  130  Харьков  свыше 1000 человек  ...   \n",
      "2                                  800     Киев     до 1000 человек  ...   \n",
      "3                                  400   Одесса      до 200 человек  ...   \n",
      "4                                  500   Другой       до 10 человек  ...   \n",
      "...                                ...      ...                 ...  ...   \n",
      "8699                               700   Одесса       до 50 человек  ...   \n",
      "8700                               120     Киев       до 50 человек  ...   \n",
      "8701                               500    Львов       до 10 человек  ...   \n",
      "8702                                 0    Днепр  свыше 1000 человек  ...   \n",
      "8703                               800   Одесса     до 1000 человек  ...   \n",
      "\n",
      "     Еще.студент Уровень.английского                    Предметная.область  \\\n",
      "0           True       ниже среднего                         iOS,eCommerce   \n",
      "1           True       выше среднего                        Веб-разработка   \n",
      "2          False             средний  Веб-разработка,Корпоративные системы   \n",
      "3          False       ниже среднего   Desktop Applications,Веб-разработка   \n",
      "4          False             средний   Desktop Applications,Веб-разработка   \n",
      "...          ...                 ...                                   ...   \n",
      "8699       False             средний          Android,Desktop Applications   \n",
      "8700       False       ниже среднего                             eCommerce   \n",
      "8701       False       выше среднего  Веб-разработка,Корпоративные системы   \n",
      "8702       False         продвинутый                       Финансы и банки   \n",
      "8703       False       выше среднего                        Веб-разработка   \n",
      "\n",
      "          Дата.заполнения                                         User.Agent  \\\n",
      "0     12/06/2017 12:38:08  Mozilla/5.0 (Windows NT 10.0; Win64; x64) Appl...   \n",
      "1     12/06/2017 12:42:51  Mozilla/5.0 (iPad; CPU OS 10_2_1 like Mac OS X...   \n",
      "2     12/06/2017 13:02:47  Mozilla/5.0 (Windows NT 10.0; Win64; x64) Appl...   \n",
      "3     12/06/2017 13:03:01  Mozilla/5.0 (Windows NT 6.1; Win64; x64) Apple...   \n",
      "4     12/06/2017 13:03:47  Mozilla/5.0 (iPhone; CPU iPhone OS 10_3_2 like...   \n",
      "...                   ...                                                ...   \n",
      "8699  12/07/2017 15:45:24  Mozilla/5.0 (X11; Ubuntu; Linux x86_64; rv:54....   \n",
      "8700  12/07/2017 17:00:06  Mozilla/5.0 (Windows NT 10.0; Win64; x64) Appl...   \n",
      "8701  12/07/2017 17:32:26  Mozilla/5.0 (X11; Linux x86_64) AppleWebKit/53...   \n",
      "8702  12/07/2017 18:14:59  Mozilla/5.0 (Windows NT 6.1) AppleWebKit/537.3...   \n",
      "8703  12/07/2017 21:28:57  Mozilla/5.0 (iPad; CPU OS 10_3_2 like Mac OS X...   \n",
      "\n",
      "       exp current_job_exp salary Валюта  cls  \n",
      "0      0.5             0.5    400    NaN   QA  \n",
      "1      0.0             0.0    430    NaN   QA  \n",
      "2      4.0             1.0   2500    NaN  DEV  \n",
      "3      5.0             4.0   2000    NaN  DEV  \n",
      "4     10.0             0.5   4500    NaN  DEV  \n",
      "...    ...             ...    ...    ...  ...  \n",
      "8699   1.0             0.0    700    NaN   QA  \n",
      "8700   0.5             0.5    400    NaN  NaN  \n",
      "8701   1.0             0.5    800    NaN  DEV  \n",
      "8702   6.0             4.0   2600    NaN   PM  \n",
      "8703   7.0             2.0   5000    NaN  DEV  \n",
      "\n",
      "[8704 rows x 25 columns]\n"
     ]
    }
   ],
   "source": [
    "data = pd.read_csv(\"2017_jun_final.csv\")\n",
    "print(data)"
   ]
  },
  {
   "cell_type": "markdown",
   "id": "d633de1e",
   "metadata": {},
   "source": [
    "#### Прочитайте полученную таблицу используя метод head   "
   ]
  },
  {
   "cell_type": "code",
   "execution_count": 6,
   "id": "afaa98af",
   "metadata": {},
   "outputs": [
    {
     "name": "stdout",
     "output_type": "stream",
     "text": [
      "   N                 Должность Язык.программирования Специализация  \\\n",
      "0  1        Junior QA engineer                   NaN     Manual QA   \n",
      "1  2        Junior QA engineer                   NaN     Manual QA   \n",
      "2  3         Software Engineer               C#/.NET           NaN   \n",
      "3  4         Software Engineer            JavaScript           NaN   \n",
      "4  5  Senior Software Engineer            JavaScript           NaN   \n",
      "\n",
      "  Общий.опыт.работы Опыт.работы.на.текущем.месте  Зарплата.в.месяц  \\\n",
      "0               0.5                          0.5               400   \n",
      "1  меньше 3 месяцев             меньше 3 месяцев               430   \n",
      "2                 4                            1              2500   \n",
      "3                 5                            4              2000   \n",
      "4    10 и более лет                          0.5              4500   \n",
      "\n",
      "   Изменение.зарплаты.за.12.месяцев    Город     Размер.компании  ...  \\\n",
      "0                                 0  Харьков       до 10 человек  ...   \n",
      "1                               130  Харьков  свыше 1000 человек  ...   \n",
      "2                               800     Киев     до 1000 человек  ...   \n",
      "3                               400   Одесса      до 200 человек  ...   \n",
      "4                               500   Другой       до 10 человек  ...   \n",
      "\n",
      "  Еще.студент Уровень.английского                    Предметная.область  \\\n",
      "0        True       ниже среднего                         iOS,eCommerce   \n",
      "1        True       выше среднего                        Веб-разработка   \n",
      "2       False             средний  Веб-разработка,Корпоративные системы   \n",
      "3       False       ниже среднего   Desktop Applications,Веб-разработка   \n",
      "4       False             средний   Desktop Applications,Веб-разработка   \n",
      "\n",
      "       Дата.заполнения                                         User.Agent  \\\n",
      "0  12/06/2017 12:38:08  Mozilla/5.0 (Windows NT 10.0; Win64; x64) Appl...   \n",
      "1  12/06/2017 12:42:51  Mozilla/5.0 (iPad; CPU OS 10_2_1 like Mac OS X...   \n",
      "2  12/06/2017 13:02:47  Mozilla/5.0 (Windows NT 10.0; Win64; x64) Appl...   \n",
      "3  12/06/2017 13:03:01  Mozilla/5.0 (Windows NT 6.1; Win64; x64) Apple...   \n",
      "4  12/06/2017 13:03:47  Mozilla/5.0 (iPhone; CPU iPhone OS 10_3_2 like...   \n",
      "\n",
      "    exp current_job_exp salary Валюта  cls  \n",
      "0   0.5             0.5    400    NaN   QA  \n",
      "1   0.0             0.0    430    NaN   QA  \n",
      "2   4.0             1.0   2500    NaN  DEV  \n",
      "3   5.0             4.0   2000    NaN  DEV  \n",
      "4  10.0             0.5   4500    NaN  DEV  \n",
      "\n",
      "[5 rows x 25 columns]\n"
     ]
    }
   ],
   "source": [
    "print(data.head())"
   ]
  },
  {
   "cell_type": "markdown",
   "id": "9f81f876",
   "metadata": {},
   "source": [
    "#### Определите размер таблицы с помощью метода shape"
   ]
  },
  {
   "cell_type": "code",
   "execution_count": 7,
   "id": "e1cc7066",
   "metadata": {},
   "outputs": [
    {
     "data": {
      "text/plain": [
       "(8704, 25)"
      ]
     },
     "execution_count": 7,
     "metadata": {},
     "output_type": "execute_result"
    }
   ],
   "source": [
    "data.shape"
   ]
  },
  {
   "cell_type": "markdown",
   "id": "9a6fb187",
   "metadata": {},
   "source": [
    "#### Определите типы всех столбцов с помощью dataframe.dtypes"
   ]
  },
  {
   "cell_type": "code",
   "execution_count": 8,
   "id": "07601b54",
   "metadata": {},
   "outputs": [
    {
     "name": "stdout",
     "output_type": "stream",
     "text": [
      "N                                     int64\n",
      "Должность                            object\n",
      "Язык.программирования                object\n",
      "Специализация                        object\n",
      "Общий.опыт.работы                    object\n",
      "Опыт.работы.на.текущем.месте         object\n",
      "Зарплата.в.месяц                      int64\n",
      "Изменение.зарплаты.за.12.месяцев      int64\n",
      "Город                                object\n",
      "Размер.компании                      object\n",
      "Тип.компании                         object\n",
      "Пол                                  object\n",
      "Возраст                               int64\n",
      "Образование                          object\n",
      "Университет                          object\n",
      "Еще.студент                            bool\n",
      "Уровень.английского                  object\n",
      "Предметная.область                   object\n",
      "Дата.заполнения                      object\n",
      "User.Agent                           object\n",
      "exp                                 float64\n",
      "current_job_exp                     float64\n",
      "salary                                int64\n",
      "Валюта                               object\n",
      "cls                                  object\n",
      "dtype: object\n"
     ]
    }
   ],
   "source": [
    "print(data.dtypes)"
   ]
  },
  {
   "cell_type": "markdown",
   "id": "2193ff33",
   "metadata": {},
   "source": [
    "#### Посчитайте, какая доля пропусков содержится в каждой колонке (используйте методы isnull и sum)"
   ]
  },
  {
   "cell_type": "code",
   "execution_count": 9,
   "id": "f167c06e",
   "metadata": {},
   "outputs": [
    {
     "name": "stdout",
     "output_type": "stream",
     "text": [
      "N                                      0\n",
      "Должность                              0\n",
      "Язык.программирования               3850\n",
      "Специализация                       7219\n",
      "Общий.опыт.работы                      0\n",
      "Опыт.работы.на.текущем.месте           0\n",
      "Зарплата.в.месяц                       0\n",
      "Изменение.зарплаты.за.12.месяцев       0\n",
      "Город                                  0\n",
      "Размер.компании                        0\n",
      "Тип.компании                           0\n",
      "Пол                                    0\n",
      "Возраст                                0\n",
      "Образование                            0\n",
      "Университет                          358\n",
      "Еще.студент                            0\n",
      "Уровень.английского                    0\n",
      "Предметная.область                   223\n",
      "Дата.заполнения                        0\n",
      "User.Agent                             0\n",
      "exp                                    0\n",
      "current_job_exp                        0\n",
      "salary                                 0\n",
      "Валюта                              8694\n",
      "cls                                 1574\n",
      "dtype: int64\n"
     ]
    }
   ],
   "source": [
    "print(data.isnull().sum())"
   ]
  },
  {
   "cell_type": "markdown",
   "id": "4c4580d2",
   "metadata": {},
   "source": [
    "#### Удалите все столбцы с пропусками, кроме столбца \"Язык.программирования\""
   ]
  },
  {
   "cell_type": "code",
   "execution_count": 10,
   "id": "3322052d",
   "metadata": {},
   "outputs": [
    {
     "name": "stdout",
     "output_type": "stream",
     "text": [
      "         N                 Должность Общий.опыт.работы  \\\n",
      "0        1        Junior QA engineer               0.5   \n",
      "1        2        Junior QA engineer  меньше 3 месяцев   \n",
      "2        3         Software Engineer                 4   \n",
      "3        4         Software Engineer                 5   \n",
      "4        5  Senior Software Engineer    10 и более лет   \n",
      "...    ...                       ...               ...   \n",
      "8699  8700               QA engineer                 1   \n",
      "8700  8701                 Marketing               0.5   \n",
      "8701  8702  Junior Software Engineer                 1   \n",
      "8702  8703                 Team lead                 6   \n",
      "8703  8704  Senior Software Engineer                 7   \n",
      "\n",
      "     Опыт.работы.на.текущем.месте  Зарплата.в.месяц  \\\n",
      "0                             0.5               400   \n",
      "1                меньше 3 месяцев               430   \n",
      "2                               1              2500   \n",
      "3                               4              2000   \n",
      "4                             0.5              4500   \n",
      "...                           ...               ...   \n",
      "8699             меньше 3 месяцев               700   \n",
      "8700                          0.5               400   \n",
      "8701                          0.5               800   \n",
      "8702                            4              2600   \n",
      "8703                            2              5000   \n",
      "\n",
      "      Изменение.зарплаты.за.12.месяцев    Город     Размер.компании  \\\n",
      "0                                    0  Харьков       до 10 человек   \n",
      "1                                  130  Харьков  свыше 1000 человек   \n",
      "2                                  800     Киев     до 1000 человек   \n",
      "3                                  400   Одесса      до 200 человек   \n",
      "4                                  500   Другой       до 10 человек   \n",
      "...                                ...      ...                 ...   \n",
      "8699                               700   Одесса       до 50 человек   \n",
      "8700                               120     Киев       до 50 человек   \n",
      "8701                               500    Львов       до 10 человек   \n",
      "8702                                 0    Днепр  свыше 1000 человек   \n",
      "8703                               800   Одесса     до 1000 человек   \n",
      "\n",
      "         Тип.компании      Пол  Возраст           Образование  Еще.студент  \\\n",
      "0      Аутсорсинговая  женский       20  Незаконченное высшее         True   \n",
      "1      Аутсорсинговая  женский       21  Незаконченное высшее         True   \n",
      "2      Аутсорсинговая  мужской       26                Высшее        False   \n",
      "3         Продуктовая  мужской       30               Среднее        False   \n",
      "4         Продуктовая  мужской       30    Техникум / Колледж        False   \n",
      "...               ...      ...      ...                   ...          ...   \n",
      "8699   Аутсорсинговая  мужской       23                Высшее        False   \n",
      "8700      Продуктовая  женский       22                Высшее        False   \n",
      "8701  Аутстаффинговая  мужской       30  Незаконченное высшее        False   \n",
      "8702   Аутсорсинговая  мужской       34                Высшее        False   \n",
      "8703      Продуктовая  мужской       28                Высшее        False   \n",
      "\n",
      "     Уровень.английского      Дата.заполнения  \\\n",
      "0          ниже среднего  12/06/2017 12:38:08   \n",
      "1          выше среднего  12/06/2017 12:42:51   \n",
      "2                средний  12/06/2017 13:02:47   \n",
      "3          ниже среднего  12/06/2017 13:03:01   \n",
      "4                средний  12/06/2017 13:03:47   \n",
      "...                  ...                  ...   \n",
      "8699             средний  12/07/2017 15:45:24   \n",
      "8700       ниже среднего  12/07/2017 17:00:06   \n",
      "8701       выше среднего  12/07/2017 17:32:26   \n",
      "8702         продвинутый  12/07/2017 18:14:59   \n",
      "8703       выше среднего  12/07/2017 21:28:57   \n",
      "\n",
      "                                             User.Agent   exp  \\\n",
      "0     Mozilla/5.0 (Windows NT 10.0; Win64; x64) Appl...   0.5   \n",
      "1     Mozilla/5.0 (iPad; CPU OS 10_2_1 like Mac OS X...   0.0   \n",
      "2     Mozilla/5.0 (Windows NT 10.0; Win64; x64) Appl...   4.0   \n",
      "3     Mozilla/5.0 (Windows NT 6.1; Win64; x64) Apple...   5.0   \n",
      "4     Mozilla/5.0 (iPhone; CPU iPhone OS 10_3_2 like...  10.0   \n",
      "...                                                 ...   ...   \n",
      "8699  Mozilla/5.0 (X11; Ubuntu; Linux x86_64; rv:54....   1.0   \n",
      "8700  Mozilla/5.0 (Windows NT 10.0; Win64; x64) Appl...   0.5   \n",
      "8701  Mozilla/5.0 (X11; Linux x86_64) AppleWebKit/53...   1.0   \n",
      "8702  Mozilla/5.0 (Windows NT 6.1) AppleWebKit/537.3...   6.0   \n",
      "8703  Mozilla/5.0 (iPad; CPU OS 10_3_2 like Mac OS X...   7.0   \n",
      "\n",
      "      current_job_exp  salary Язык.программирования  \n",
      "0                 0.5     400                   NaN  \n",
      "1                 0.0     430                   NaN  \n",
      "2                 1.0    2500               C#/.NET  \n",
      "3                 4.0    2000            JavaScript  \n",
      "4                 0.5    4500            JavaScript  \n",
      "...               ...     ...                   ...  \n",
      "8699              0.0     700                   NaN  \n",
      "8700              0.5     400                   NaN  \n",
      "8701              0.5     800            Ruby/Rails  \n",
      "8702              4.0    2600                   NaN  \n",
      "8703              2.0    5000                  Java  \n",
      "\n",
      "[8704 rows x 20 columns]\n"
     ]
    }
   ],
   "source": [
    "existing_data = data.dropna(axis=1)\n",
    "lang = pd.DataFrame({\"Язык.программирования\": data[\"Язык.программирования\"]})\n",
    "new_data = pd.concat([existing_data, lang], axis=1)\n",
    "print(new_data)"
   ]
  },
  {
   "cell_type": "markdown",
   "id": "813fd2d8",
   "metadata": {},
   "source": [
    "#### Опять посчитайте, какая доля пропусков содержится в каждой колонке и убедитесь, что остался только столбец \"Язык.программирования\""
   ]
  },
  {
   "cell_type": "code",
   "execution_count": 11,
   "id": "9466709f",
   "metadata": {},
   "outputs": [
    {
     "name": "stdout",
     "output_type": "stream",
     "text": [
      "N                                      0\n",
      "Должность                              0\n",
      "Общий.опыт.работы                      0\n",
      "Опыт.работы.на.текущем.месте           0\n",
      "Зарплата.в.месяц                       0\n",
      "Изменение.зарплаты.за.12.месяцев       0\n",
      "Город                                  0\n",
      "Размер.компании                        0\n",
      "Тип.компании                           0\n",
      "Пол                                    0\n",
      "Возраст                                0\n",
      "Образование                            0\n",
      "Еще.студент                            0\n",
      "Уровень.английского                    0\n",
      "Дата.заполнения                        0\n",
      "User.Agent                             0\n",
      "exp                                    0\n",
      "current_job_exp                        0\n",
      "salary                                 0\n",
      "Язык.программирования               3850\n",
      "dtype: int64\n"
     ]
    }
   ],
   "source": [
    "print(new_data.isnull().sum())"
   ]
  },
  {
   "cell_type": "markdown",
   "id": "de5e3203",
   "metadata": {},
   "source": [
    "#### Удалите все строки в исходной таблице с помощью метода dropna"
   ]
  },
  {
   "cell_type": "code",
   "execution_count": 12,
   "id": "381e8f82",
   "metadata": {},
   "outputs": [
    {
     "name": "stdout",
     "output_type": "stream",
     "text": [
      "Empty DataFrame\n",
      "Columns: [N, Должность, Язык.программирования, Специализация, Общий.опыт.работы, Опыт.работы.на.текущем.месте, Зарплата.в.месяц, Изменение.зарплаты.за.12.месяцев, Город, Размер.компании, Тип.компании, Пол, Возраст, Образование, Университет, Еще.студент, Уровень.английского, Предметная.область, Дата.заполнения, User.Agent, exp, current_job_exp, salary, Валюта, cls]\n",
      "Index: []\n",
      "\n",
      "[0 rows x 25 columns]\n"
     ]
    }
   ],
   "source": [
    "line_data = data.dropna()\n",
    "print(line_data)"
   ]
  },
  {
   "cell_type": "markdown",
   "id": "0fb55285",
   "metadata": {},
   "source": [
    "#### Определите новый размер таблицы с помощью метода shape"
   ]
  },
  {
   "cell_type": "code",
   "execution_count": 13,
   "id": "ebf309b0",
   "metadata": {},
   "outputs": [
    {
     "name": "stdout",
     "output_type": "stream",
     "text": [
      "(0, 25)\n"
     ]
    }
   ],
   "source": [
    "print(line_data.shape)"
   ]
  },
  {
   "cell_type": "markdown",
   "id": "15f06e0c",
   "metadata": {},
   "source": [
    "#### Создайте новую таблицу python_data в которой будут только строки со специалистами указавшими язык программирования Python"
   ]
  },
  {
   "cell_type": "code",
   "execution_count": 14,
   "id": "35f61eaf",
   "metadata": {},
   "outputs": [
    {
     "name": "stdout",
     "output_type": "stream",
     "text": [
      "         N                 Должность Язык.программирования Специализация  \\\n",
      "12      13         Software Engineer                Python           NaN   \n",
      "68      69         Software Engineer                Python           NaN   \n",
      "87      88  Junior Software Engineer                Python           NaN   \n",
      "114    115  Junior Software Engineer                Python           NaN   \n",
      "143    144  Junior Software Engineer                Python           NaN   \n",
      "...    ...                       ...                   ...           ...   \n",
      "8546  8547         Software Engineer                Python           NaN   \n",
      "8625  8626         Software Engineer                Python           NaN   \n",
      "8635  8636  Senior Software Engineer                Python           NaN   \n",
      "8673  8674  Junior Software Engineer                Python           NaN   \n",
      "8695  8696         Software Engineer                Python           NaN   \n",
      "\n",
      "     Общий.опыт.работы Опыт.работы.на.текущем.месте  Зарплата.в.месяц  \\\n",
      "12                   1             меньше 3 месяцев               800   \n",
      "68                 1.5                          0.5               900   \n",
      "87                 0.5                          0.5               600   \n",
      "114                1.5                          0.5               685   \n",
      "143                  1                            1               750   \n",
      "...                ...                          ...               ...   \n",
      "8546                 5                            1              2000   \n",
      "8625                 4                            1              1750   \n",
      "8635    10 и более лет             меньше 3 месяцев              4000   \n",
      "8673               0.5                          0.5               350   \n",
      "8695                 1                          0.5              1500   \n",
      "\n",
      "      Изменение.зарплаты.за.12.месяцев      Город     Размер.компании  ...  \\\n",
      "12                                 200       Киев       до 50 человек  ...   \n",
      "68                                 900       Киев       до 10 человек  ...   \n",
      "87                                   0       Киев       до 10 человек  ...   \n",
      "114                                250       Киев     до 1000 человек  ...   \n",
      "143                                250       Киев       до 10 человек  ...   \n",
      "...                                ...        ...                 ...  ...   \n",
      "8546                               800  Запорожье       до 50 человек  ...   \n",
      "8625                                 0       Киев  свыше 1000 человек  ...   \n",
      "8635                              1300   Удаленно       до 10 человек  ...   \n",
      "8673                                50       Киев       до 50 человек  ...   \n",
      "8695                              1000       Киев       до 10 человек  ...   \n",
      "\n",
      "     Еще.студент Уровень.английского         Предметная.область  \\\n",
      "12         False       ниже среднего      Веб-разработка,Другое   \n",
      "68          True       выше среднего             Веб-разработка   \n",
      "87          True       выше среднего   Веб-разработка,eCommerce   \n",
      "114        False             средний                     Другое   \n",
      "143         True       выше среднего             Веб-разработка   \n",
      "...          ...                 ...                        ...   \n",
      "8546       False             средний             Веб-разработка   \n",
      "8625       False             средний             Веб-разработка   \n",
      "8635       False       выше среднего             Веб-разработка   \n",
      "8673       False             средний             Веб-разработка   \n",
      "8695       False             средний  Финансы и банки,eCommerce   \n",
      "\n",
      "          Дата.заполнения                                         User.Agent  \\\n",
      "12    12/06/2017 13:05:54  Mozilla/5.0 (Windows NT 6.1; Win64; x64) Apple...   \n",
      "68    12/06/2017 13:11:17  Mozilla/5.0 (Windows NT 10.0; Win64; x64) Appl...   \n",
      "87    12/06/2017 13:12:25  Mozilla/5.0 (X11; Linux x86_64) AppleWebKit/53...   \n",
      "114   12/06/2017 13:14:52  Mozilla/5.0 (X11; Linux x86_64) AppleWebKit/53...   \n",
      "143   12/06/2017 13:19:10  Mozilla/5.0 (X11; Linux x86_64) AppleWebKit/53...   \n",
      "...                   ...                                                ...   \n",
      "8546  10/07/2017 14:11:26  Mozilla/5.0 (Macintosh; Intel Mac OS X 10_12_5...   \n",
      "8625  11/07/2017 16:15:40  Mozilla/5.0 (X11; Ubuntu; Linux x86_64; rv:54....   \n",
      "8635  11/07/2017 17:51:36  Mozilla/5.0 (X11; Linux x86_64) AppleWebKit/53...   \n",
      "8673  12/07/2017 09:37:16  Mozilla/5.0 (X11; Ubuntu; Linux x86_64; rv:54....   \n",
      "8695  12/07/2017 14:39:21  Mozilla/5.0 (X11; Linux x86_64) AppleWebKit/53...   \n",
      "\n",
      "       exp current_job_exp salary Валюта  cls  \n",
      "12     1.0             0.0    800    NaN  DEV  \n",
      "68     1.5             0.5    900    NaN  DEV  \n",
      "87     0.5             0.5    600    NaN  DEV  \n",
      "114    1.5             0.5    685    NaN  DEV  \n",
      "143    1.0             1.0    750    NaN  DEV  \n",
      "...    ...             ...    ...    ...  ...  \n",
      "8546   5.0             1.0   2000    NaN  DEV  \n",
      "8625   4.0             1.0   1750    NaN  DEV  \n",
      "8635  10.0             0.0   4000    NaN  DEV  \n",
      "8673   0.5             0.5    350    NaN  DEV  \n",
      "8695   1.0             0.5   1500    NaN  DEV  \n",
      "\n",
      "[207 rows x 25 columns]\n"
     ]
    }
   ],
   "source": [
    "python_data = data[data['Язык.программирования'] == 'Python']\n",
    "print(python_data)"
   ]
  },
  {
   "cell_type": "markdown",
   "id": "6f495427",
   "metadata": {},
   "source": [
    "#### Определите размер таблицы python_data с помощью метода shape"
   ]
  },
  {
   "cell_type": "code",
   "execution_count": 15,
   "id": "cc693161",
   "metadata": {},
   "outputs": [
    {
     "name": "stdout",
     "output_type": "stream",
     "text": [
      "(207, 25)\n"
     ]
    }
   ],
   "source": [
    "print(python_data.shape)"
   ]
  },
  {
   "cell_type": "markdown",
   "id": "c5936ef5",
   "metadata": {},
   "source": [
    "#### Используя метод groupby выполните группировку по столбцу \"Должность\""
   ]
  },
  {
   "cell_type": "code",
   "execution_count": 98,
   "id": "830d2917",
   "metadata": {},
   "outputs": [
    {
     "name": "stdout",
     "output_type": "stream",
     "text": [
      "                                    N  Зарплата.в.месяц  \\\n",
      "Должность                                                 \n",
      "Junior Software Engineer  3559.063492        560.841270   \n",
      "Senior Software Engineer  4781.870968       3387.096774   \n",
      "Software Engineer         3668.840000       1799.070000   \n",
      "System Architect          6989.000000       4000.000000   \n",
      "Technical Lead            5370.181818       3165.909091   \n",
      "\n",
      "                          Изменение.зарплаты.за.12.месяцев    Возраст  \\\n",
      "Должность                                                               \n",
      "Junior Software Engineer                        181.031746  24.174603   \n",
      "Senior Software Engineer                        431.612903  29.064516   \n",
      "Software Engineer                               479.830000  26.630000   \n",
      "System Architect                                  0.000000  35.500000   \n",
      "Technical Lead                                  455.000000  30.090909   \n",
      "\n",
      "                          Еще.студент        exp  current_job_exp       salary  \n",
      "Должность                                                                       \n",
      "Junior Software Engineer     0.380952   0.876984         0.523810   560.841270  \n",
      "Senior Software Engineer     0.032258   6.677419         1.556452  3387.096774  \n",
      "Software Engineer            0.130000   3.180000         1.127500  1799.070000  \n",
      "System Architect             0.000000  10.000000         1.125000  4000.000000  \n",
      "Technical Lead               0.000000   7.090909         3.386364  3165.909091  \n"
     ]
    }
   ],
   "source": [
    "print(python_data.groupby([\"Должность\"]).mean())"
   ]
  },
  {
   "cell_type": "markdown",
   "id": "a2ccdcc5",
   "metadata": {},
   "source": [
    "#### Создайте новый DataFrame, где для сгруппированных данных по столбцу \"Должность\", выполните агрегацию данных с помощью метода agg и найдите минимальное и максимальное значение в столбце \"Зарплата.в.месяц\""
   ]
  },
  {
   "cell_type": "code",
   "execution_count": 95,
   "id": "d31fa2d5",
   "metadata": {},
   "outputs": [
    {
     "name": "stdout",
     "output_type": "stream",
     "text": [
      "                         Зарплата.в.месяц      \n",
      "                                      min   max\n",
      "Должность                                      \n",
      "Junior Software Engineer              100  1250\n",
      "Senior Software Engineer             1300  9200\n",
      "Software Engineer                     500  5400\n",
      "System Architect                     3000  5000\n",
      "Technical Lead                       1425  6200\n"
     ]
    }
   ],
   "source": [
    "salary_data = python_data.groupby(\"Должность\").agg({\"Зарплата.в.месяц\": ['min', 'max']})\n",
    "print(salary_data)"
   ]
  },
  {
   "cell_type": "markdown",
   "id": "d3725011",
   "metadata": {},
   "source": [
    "#### Создайте функцию fill_avg_salary которая будет возвращать среднее значение заработной платы в месяц. Используйте ее для метода apply и создайте новый столбик \"avg\""
   ]
  },
  {
   "cell_type": "code",
   "execution_count": 82,
   "id": "8cc538a4",
   "metadata": {},
   "outputs": [],
   "source": [
    "def fill_avg_salary(x):\n",
    "    x = x[\"Зарплата.в.месяц\"].mean()\n",
    "    return x"
   ]
  },
  {
   "cell_type": "code",
   "execution_count": 83,
   "id": "1de8da3e",
   "metadata": {},
   "outputs": [
    {
     "name": "stdout",
     "output_type": "stream",
     "text": [
      "                         Зарплата.в.месяц                avg\n",
      "                                      min   max             \n",
      "Должность                                                   \n",
      "Junior Software Engineer              100  1250   560.841270\n",
      "Senior Software Engineer             1300  9200  3387.096774\n",
      "Software Engineer                     500  5400  1799.070000\n",
      "System Architect                     3000  5000  4000.000000\n",
      "Technical Lead                       1425  6200  3165.909091\n"
     ]
    }
   ],
   "source": [
    "salary_data['avg'] = python_data.groupby([\"Должность\"]).apply(fill_avg_salary)\n",
    "print(salary_data)"
   ]
  },
  {
   "cell_type": "markdown",
   "id": "1b324cbc",
   "metadata": {},
   "source": [
    "#### Создайте описательную статистику с помощью метода describe для нового столбца."
   ]
  },
  {
   "cell_type": "code",
   "execution_count": 86,
   "id": "815b11c9",
   "metadata": {},
   "outputs": [
    {
     "name": "stdout",
     "output_type": "stream",
     "text": [
      "count       5.000000\n",
      "mean     2582.583427\n",
      "std      1387.255829\n",
      "min       560.841270\n",
      "25%      1799.070000\n",
      "50%      3165.909091\n",
      "75%      3387.096774\n",
      "max      4000.000000\n",
      "Name: avg, dtype: float64\n"
     ]
    }
   ],
   "source": [
    "print(salary_data['avg'].describe())"
   ]
  },
  {
   "cell_type": "markdown",
   "id": "0ddb5b21",
   "metadata": {},
   "source": [
    "#### Сохраните полученную таблицу в CSV файл"
   ]
  },
  {
   "cell_type": "code",
   "execution_count": 99,
   "id": "c0029617",
   "metadata": {},
   "outputs": [],
   "source": [
    "salary_data.to_csv(\"new_file.csv\")"
   ]
  },
  {
   "cell_type": "code",
   "execution_count": 100,
   "id": "312a6f2b",
   "metadata": {},
   "outputs": [
    {
     "name": "stdout",
     "output_type": "stream",
     "text": [
      "                 Unnamed: 0 Зарплата.в.месяц Зарплата.в.месяц.1\n",
      "0                       NaN              min                max\n",
      "1                 Должность              NaN                NaN\n",
      "2  Junior Software Engineer              100               1250\n",
      "3  Senior Software Engineer             1300               9200\n",
      "4         Software Engineer              500               5400\n",
      "5          System Architect             3000               5000\n",
      "6            Technical Lead             1425               6200\n"
     ]
    }
   ],
   "source": [
    "last_data = pd.read_csv(\"new_file.csv\")\n",
    "print(last_data)"
   ]
  }
 ],
 "metadata": {
  "kernelspec": {
   "display_name": "Python 3 (ipykernel)",
   "language": "python",
   "name": "python3"
  },
  "language_info": {
   "codemirror_mode": {
    "name": "ipython",
    "version": 3
   },
   "file_extension": ".py",
   "mimetype": "text/x-python",
   "name": "python",
   "nbconvert_exporter": "python",
   "pygments_lexer": "ipython3",
   "version": "3.10.0"
  }
 },
 "nbformat": 4,
 "nbformat_minor": 5
}
