{
 "cells": [
  {
   "cell_type": "markdown",
   "id": "1cb3eedc",
   "metadata": {},
   "source": [
    "### Часть третья: Анализ датасет c Kaggle.com#"
   ]
  },
  {
   "cell_type": "code",
   "execution_count": 36,
   "id": "dd275311",
   "metadata": {},
   "outputs": [],
   "source": [
    "import pandas as pd\n",
    "import matplotlib\n",
    "import matplotlib.pyplot as plt"
   ]
  },
  {
   "cell_type": "markdown",
   "id": "fa01c20a",
   "metadata": {},
   "source": [
    "#### Прочитайте csv файл (используйте функцию read_csv)"
   ]
  },
  {
   "cell_type": "code",
   "execution_count": 18,
   "id": "ea5091fb",
   "metadata": {},
   "outputs": [],
   "source": [
    "data = pd.read_csv(\"bestsellers with categories.csv\")"
   ]
  },
  {
   "cell_type": "markdown",
   "id": "26bb10f9",
   "metadata": {},
   "source": [
    "#### Выведите первый пять строчек (используется функцию head)"
   ]
  },
  {
   "cell_type": "code",
   "execution_count": 14,
   "id": "5eb992b4",
   "metadata": {},
   "outputs": [
    {
     "name": "stdout",
     "output_type": "stream",
     "text": [
      "                                                Name  \\\n",
      "0                      10-Day Green Smoothie Cleanse   \n",
      "1                                  11/22/63: A Novel   \n",
      "2            12 Rules for Life: An Antidote to Chaos   \n",
      "3                             1984 (Signet Classics)   \n",
      "4  5,000 Awesome Facts (About Everything!) (Natio...   \n",
      "\n",
      "                     Author  User Rating  Reviews  Price  Year        Genre  \n",
      "0                  JJ Smith          4.7    17350      8  2016  Non Fiction  \n",
      "1              Stephen King          4.6     2052     22  2011      Fiction  \n",
      "2        Jordan B. Peterson          4.7    18979     15  2018  Non Fiction  \n",
      "3             George Orwell          4.7    21424      6  2017      Fiction  \n",
      "4  National Geographic Kids          4.8     7665     12  2019  Non Fiction  \n"
     ]
    }
   ],
   "source": [
    "print(data.head())"
   ]
  },
  {
   "cell_type": "markdown",
   "id": "24fb9430",
   "metadata": {},
   "source": [
    "#### Выведите размеры датасета (используйте атрибут shape)"
   ]
  },
  {
   "cell_type": "code",
   "execution_count": 16,
   "id": "5ed0a17c",
   "metadata": {},
   "outputs": [
    {
     "name": "stdout",
     "output_type": "stream",
     "text": [
      "(550, 7)\n"
     ]
    }
   ],
   "source": [
    "print(data.shape)"
   ]
  },
  {
   "cell_type": "markdown",
   "id": "9061a572",
   "metadata": {},
   "source": [
    "#### Ответ: О скольки книгах хранит данные датасет?"
   ]
  },
  {
   "cell_type": "markdown",
   "id": "69cbef58",
   "metadata": {},
   "source": [
    "550"
   ]
  },
  {
   "cell_type": "markdown",
   "id": "d0136ccd",
   "metadata": {},
   "source": [
    "#### Для упрощения последующей работы, давайте немного подправим названия переменных."
   ]
  },
  {
   "cell_type": "code",
   "execution_count": 27,
   "id": "2810d487",
   "metadata": {},
   "outputs": [
    {
     "name": "stdout",
     "output_type": "stream",
     "text": [
      "                                                name  \\\n",
      "0                      10-Day Green Smoothie Cleanse   \n",
      "1                                  11/22/63: A Novel   \n",
      "2            12 Rules for Life: An Antidote to Chaos   \n",
      "3                             1984 (Signet Classics)   \n",
      "4  5,000 Awesome Facts (About Everything!) (Natio...   \n",
      "\n",
      "                     author  user_rating  reviews  price  year        genre  \n",
      "0                  JJ Smith          4.7    17350      8  2016  Non Fiction  \n",
      "1              Stephen King          4.6     2052     22  2011      Fiction  \n",
      "2        Jordan B. Peterson          4.7    18979     15  2018  Non Fiction  \n",
      "3             George Orwell          4.7    21424      6  2017      Fiction  \n",
      "4  National Geographic Kids          4.8     7665     12  2019  Non Fiction  \n"
     ]
    }
   ],
   "source": [
    "data.columns = ['name', 'author', 'user_rating', 'reviews', 'price', 'year', 'genre']\n",
    "print(data.head())"
   ]
  },
  {
   "cell_type": "markdown",
   "id": "0ee943de",
   "metadata": {},
   "source": [
    "### Первичное исследование данных"
   ]
  },
  {
   "cell_type": "markdown",
   "id": "9b2474ef",
   "metadata": {},
   "source": [
    "#### Проверьте у всех ли строк хватает данных: выведите количество пропусков (na) в каждом из столбцов (используйте функции isna и sum)\n"
   ]
  },
  {
   "cell_type": "code",
   "execution_count": 23,
   "id": "6825a7b3",
   "metadata": {},
   "outputs": [
    {
     "name": "stdout",
     "output_type": "stream",
     "text": [
      "name           0\n",
      "author         0\n",
      "user_rating    0\n",
      "reviews        0\n",
      "price          0\n",
      "year           0\n",
      "genre          0\n",
      "dtype: int64\n"
     ]
    }
   ],
   "source": [
    "print(data.isna().sum())"
   ]
  },
  {
   "cell_type": "markdown",
   "id": "b137ef3d",
   "metadata": {},
   "source": [
    "#### Ответ: Есть ли в каких либо переменных пропуски? (Да/Нет)"
   ]
  },
  {
   "cell_type": "markdown",
   "id": "f90dd762",
   "metadata": {},
   "source": [
    "Ніт"
   ]
  },
  {
   "cell_type": "markdown",
   "id": "cf7b6e81",
   "metadata": {},
   "source": [
    "#### Проверьте, какие есть уникальные значения в колонке genre (используйте функцию unique)"
   ]
  },
  {
   "cell_type": "code",
   "execution_count": 25,
   "id": "6ea38964",
   "metadata": {
    "scrolled": true
   },
   "outputs": [
    {
     "name": "stdout",
     "output_type": "stream",
     "text": [
      "['Non Fiction' 'Fiction']\n"
     ]
    }
   ],
   "source": [
    "print(data['genre'].unique())"
   ]
  },
  {
   "cell_type": "markdown",
   "id": "55386cc0",
   "metadata": {},
   "source": [
    "#### Ответ: Какие есть уникальные жанры?"
   ]
  },
  {
   "cell_type": "markdown",
   "id": "df772a8e",
   "metadata": {},
   "source": [
    "Non Fiction, Fiction"
   ]
  },
  {
   "cell_type": "markdown",
   "id": "14c8b2d8",
   "metadata": {},
   "source": [
    "#### Теперь посмотрите на распределение цен: постройте диаграмму (используйте kind='hist')"
   ]
  },
  {
   "cell_type": "code",
   "execution_count": 38,
   "id": "56e22828",
   "metadata": {},
   "outputs": [
    {
     "data": {
      "image/png": "[encoded data removed]",
      "text/plain": [
       "<Figure size 432x288 with 1 Axes>"
      ]
     },
     "metadata": {
      "needs_background": "light"
     },
     "output_type": "display_data"
    }
   ],
   "source": [
    "data['price'].plot(kind='hist')\n",
    "plt.show()"
   ]
  },
  {
   "cell_type": "markdown",
   "id": "1f97a6a0",
   "metadata": {},
   "source": [
    "#### Определите, какая цена у нас максимальная, минимальная, средняя, медианная (используйте функции max, min, mean, median)"
   ]
  },
  {
   "cell_type": "code",
   "execution_count": 64,
   "id": "618fa0f2",
   "metadata": {},
   "outputs": [
    {
     "name": "stdout",
     "output_type": "stream",
     "text": [
      "max =105 \n",
      "min =0 \n",
      "mean =13.1 \n",
      "median =11.0\n"
     ]
    }
   ],
   "source": [
    "print(f\"max ={data['price'].max()} \\n\\\n",
    "min ={data['price'].min()} \\n\\\n",
    "mean ={data['price'].mean()} \\n\\\n",
    "median ={data['price'].median()}\")"
   ]
  },
  {
   "cell_type": "markdown",
   "id": "3090f669",
   "metadata": {},
   "source": [
    "#### Ответ: Mаксимальная цена?"
   ]
  },
  {
   "cell_type": "markdown",
   "id": "8046e972",
   "metadata": {},
   "source": [
    "105"
   ]
  },
  {
   "cell_type": "markdown",
   "id": "00cdd076",
   "metadata": {},
   "source": [
    "#### Ответ: Минимальная цена?"
   ]
  },
  {
   "cell_type": "markdown",
   "id": "91cd7011",
   "metadata": {},
   "source": [
    "0"
   ]
  },
  {
   "cell_type": "markdown",
   "id": "62cde44b",
   "metadata": {},
   "source": [
    "#### Ответ: Средняя цена?"
   ]
  },
  {
   "cell_type": "markdown",
   "id": "ba729b08",
   "metadata": {},
   "source": [
    "13.1"
   ]
  },
  {
   "cell_type": "markdown",
   "id": "5fbde26b",
   "metadata": {},
   "source": [
    "#### Ответ: Медианная цена?"
   ]
  },
  {
   "cell_type": "markdown",
   "id": "7a9916fe",
   "metadata": {},
   "source": [
    "11.0"
   ]
  },
  {
   "cell_type": "markdown",
   "id": "51dcc5e7",
   "metadata": {},
   "source": [
    "### Поиск и сортировка данных"
   ]
  },
  {
   "cell_type": "markdown",
   "id": "171a4160",
   "metadata": {},
   "source": [
    "#### Ответ: Какой рейтинг в датасете наивысший? Ответ:"
   ]
  },
  {
   "cell_type": "markdown",
   "id": "cd0099c5",
   "metadata": {},
   "source": [
    "4.9"
   ]
  },
  {
   "cell_type": "code",
   "execution_count": 65,
   "id": "4002053e",
   "metadata": {
    "scrolled": true
   },
   "outputs": [
    {
     "name": "stdout",
     "output_type": "stream",
     "text": [
      "4.9\n"
     ]
    }
   ],
   "source": [
    "print(data['user_rating'].max())"
   ]
  },
  {
   "cell_type": "markdown",
   "id": "a63c7942",
   "metadata": {},
   "source": [
    "#### Ответ: Сколько книг имеют такой рейтинг? Ответ:"
   ]
  },
  {
   "cell_type": "markdown",
   "id": "bf2d36d1",
   "metadata": {},
   "source": [
    "52"
   ]
  },
  {
   "cell_type": "code",
   "execution_count": 80,
   "id": "39f00c30",
   "metadata": {},
   "outputs": [
    {
     "name": "stdout",
     "output_type": "stream",
     "text": [
      "(52, 7)\n"
     ]
    }
   ],
   "source": [
    "print(data[data['user_rating']== 4.9].shape)"
   ]
  },
  {
   "cell_type": "markdown",
   "id": "8b83e3d9",
   "metadata": {},
   "source": [
    "#### Ответ: У какой книги больше всего отзывов? Ответ:"
   ]
  },
  {
   "cell_type": "markdown",
   "id": "00c6b91f",
   "metadata": {},
   "source": [
    " Where the Crawdads Sing    "
   ]
  },
  {
   "cell_type": "code",
   "execution_count": 84,
   "id": "ba051523",
   "metadata": {},
   "outputs": [
    {
     "name": "stdout",
     "output_type": "stream",
     "text": [
      "534    Where the Crawdads Sing\n",
      "Name: name, dtype: object\n"
     ]
    }
   ],
   "source": [
    "print(data[data['reviews'] == data['reviews'].max()]['name'])"
   ]
  },
  {
   "cell_type": "markdown",
   "id": "5fa3b166",
   "metadata": {},
   "source": [
    "#### Ответ: Из тех книг, что попали в Топ-50 в 2015 году, какая книга самая дорогая (можно использовать промежуточный датафрейм)?"
   ]
  },
  {
   "cell_type": "markdown",
   "id": "7d4c19ba",
   "metadata": {},
   "source": [
    "Publication Manual of the American Psychologic..."
   ]
  },
  {
   "cell_type": "code",
   "execution_count": 106,
   "id": "7406ba2a",
   "metadata": {},
   "outputs": [
    {
     "name": "stdout",
     "output_type": "stream",
     "text": [
      "277    Publication Manual of the American Psychologic...\n",
      "Name: name, dtype: object\n"
     ]
    }
   ],
   "source": [
    "most_rate_2015 = data[data['year'] == 2015].sort_values(by='user_rating')[0:50]\n",
    "print(most_rate_2015[most_rate_2015['price'] == most_rate_2015['price'].max()]['name'])"
   ]
  },
  {
   "cell_type": "markdown",
   "id": "ba89c5e9",
   "metadata": {},
   "source": [
    "#### Ответ: Сколько книг жанра Fiction попали в Топ-50 в 2010 году (используйте &)? Ответ:"
   ]
  },
  {
   "cell_type": "markdown",
   "id": "428d298b",
   "metadata": {},
   "source": [
    "20"
   ]
  },
  {
   "cell_type": "code",
   "execution_count": 103,
   "id": "7541178b",
   "metadata": {},
   "outputs": [
    {
     "name": "stdout",
     "output_type": "stream",
     "text": [
      "name           20\n",
      "author         20\n",
      "user_rating    20\n",
      "reviews        20\n",
      "price          20\n",
      "year           20\n",
      "genre          20\n",
      "dtype: int64\n"
     ]
    }
   ],
   "source": [
    "most_rate_2010 = data[data['year'] == 2010].sort_values(by='user_rating')[0:50]\n",
    "print(most_rate_2010[most_rate_2010['genre'] == 'Fiction'].count())"
   ]
  },
  {
   "cell_type": "markdown",
   "id": "faaee9ca",
   "metadata": {},
   "source": [
    "#### Ответ: Сколько книг c рейтингом 4.9 попало в рейтинг в 2010 и 2011 годах (используйте | или функцию isin)? Ответ:"
   ]
  },
  {
   "cell_type": "code",
   "execution_count": 132,
   "id": "13e9c456",
   "metadata": {},
   "outputs": [
    {
     "name": "stdout",
     "output_type": "stream",
     "text": [
      "0      False\n",
      "1      False\n",
      "2      False\n",
      "3      False\n",
      "4      False\n",
      "       ...  \n",
      "545    False\n",
      "546    False\n",
      "547    False\n",
      "548    False\n",
      "549    False\n",
      "Name: year, Length: 550, dtype: bool\n"
     ]
    }
   ],
   "source": [
    "a = data['year'].isin({'year': [2010, 2011]})\n",
    "#     & data['year'] == '2010' | data['year'] == '2011']\n",
    "print(a)"
   ]
  },
  {
   "cell_type": "markdown",
   "id": "3cea7c7f",
   "metadata": {},
   "source": [
    "#### И напоследок, давайте отсортируем по возрастанию цены все книги, которые попали в рейтинг в 2015 году и стоят дешевле 8 долларов (используйте функцию sort_values)."
   ]
  },
  {
   "cell_type": "code",
   "execution_count": null,
   "id": "0c4a4302",
   "metadata": {},
   "outputs": [],
   "source": []
  },
  {
   "cell_type": "markdown",
   "id": "0202d37d",
   "metadata": {},
   "source": [
    "#### Ответ: Какая книга последняя в отсортированном списке? Ответ:"
   ]
  },
  {
   "cell_type": "code",
   "execution_count": null,
   "id": "f9650746",
   "metadata": {},
   "outputs": [],
   "source": []
  },
  {
   "cell_type": "markdown",
   "id": "a159ddff",
   "metadata": {},
   "source": [
    "#### Агрегирование данных и соединения таблиц#"
   ]
  },
  {
   "cell_type": "markdown",
   "id": "b049bea4",
   "metadata": {},
   "source": [
    "#### Для начала давайте посмотрим на максимальную и минимальную цены для каждого из жанров (используйте функции groupby и agg, для подсчета минимальных и максимальных значений используйте max и min). Не берите все столбцы, виберете только нужные вам"
   ]
  },
  {
   "cell_type": "code",
   "execution_count": null,
   "id": "285a123b",
   "metadata": {},
   "outputs": [],
   "source": []
  },
  {
   "cell_type": "markdown",
   "id": "f4d84f49",
   "metadata": {},
   "source": [
    "#### Ответ: Максимальная цена для жанра Fiction: Ответ"
   ]
  },
  {
   "cell_type": "code",
   "execution_count": null,
   "id": "9429720e",
   "metadata": {},
   "outputs": [],
   "source": []
  },
  {
   "cell_type": "markdown",
   "id": "7fcebae7",
   "metadata": {},
   "source": [
    "#### Ответ: Минимальная цена для жанра Fiction: Ответ"
   ]
  },
  {
   "cell_type": "code",
   "execution_count": null,
   "id": "5f6e70e9",
   "metadata": {},
   "outputs": [],
   "source": []
  },
  {
   "cell_type": "markdown",
   "id": "b6e7a416",
   "metadata": {},
   "source": [
    "#### Ответ: Максимальная цена для жанра Non Fiction: Ответ"
   ]
  },
  {
   "cell_type": "code",
   "execution_count": null,
   "id": "4abd4c05",
   "metadata": {},
   "outputs": [],
   "source": []
  },
  {
   "cell_type": "markdown",
   "id": "22c8cc83",
   "metadata": {},
   "source": [
    "#### Ответ: Минимальная цена для жанра Non Fiction: Ответ"
   ]
  },
  {
   "cell_type": "code",
   "execution_count": null,
   "id": "d6105109",
   "metadata": {},
   "outputs": [],
   "source": []
  },
  {
   "cell_type": "markdown",
   "id": "daee121b",
   "metadata": {},
   "source": [
    "#### Теперь создайте новый датафрейм, который будет вмещать в себя количество книг для каждого из авторов (используйте функции groupby и agg, для подсчета количества используйте count). Не берите все столбцы, виберете только нужные"
   ]
  },
  {
   "cell_type": "code",
   "execution_count": null,
   "id": "1316a57b",
   "metadata": {},
   "outputs": [],
   "source": []
  },
  {
   "cell_type": "markdown",
   "id": "43ac6a69",
   "metadata": {},
   "source": [
    "#### Ответ: Какой размерности вышла таблица? Ответ:"
   ]
  },
  {
   "cell_type": "code",
   "execution_count": null,
   "id": "b1032e27",
   "metadata": {},
   "outputs": [],
   "source": []
  },
  {
   "cell_type": "markdown",
   "id": "384175db",
   "metadata": {},
   "source": [
    "#### Ответ: У какого автора больше всего книг? Ответ:"
   ]
  },
  {
   "cell_type": "code",
   "execution_count": null,
   "id": "bb76c344",
   "metadata": {},
   "outputs": [],
   "source": []
  },
  {
   "cell_type": "markdown",
   "id": "91f8688c",
   "metadata": {},
   "source": [
    "#### Ответ: Сколько книг у этого автора? Ответ:"
   ]
  },
  {
   "cell_type": "code",
   "execution_count": null,
   "id": "67fa662e",
   "metadata": {},
   "outputs": [],
   "source": []
  },
  {
   "cell_type": "markdown",
   "id": "161a6556",
   "metadata": {},
   "source": [
    "#### Теперь создайте второй датафрейм, который будет вмещать средний рейтинг для каждого автора (используйте функции groupby и agg, для подсчета среднего значения используйте mean). Не берите все столбцы, виберете только нужные"
   ]
  },
  {
   "cell_type": "code",
   "execution_count": null,
   "id": "932e3dc7",
   "metadata": {},
   "outputs": [],
   "source": []
  },
  {
   "cell_type": "markdown",
   "id": "105d30bf",
   "metadata": {},
   "source": [
    "#### Ответ: У какого автора средний рейтинг минимальный? Ответ:"
   ]
  },
  {
   "cell_type": "code",
   "execution_count": null,
   "id": "1f2c530a",
   "metadata": {},
   "outputs": [],
   "source": []
  },
  {
   "cell_type": "markdown",
   "id": "9aa7f77d",
   "metadata": {},
   "source": [
    "#### Ответ: Какой у этого автора средний рейтинг? Ответ:"
   ]
  },
  {
   "cell_type": "code",
   "execution_count": null,
   "id": "246a7580",
   "metadata": {},
   "outputs": [],
   "source": []
  },
  {
   "cell_type": "markdown",
   "id": "79618c0b",
   "metadata": {},
   "source": [
    "#### Соедините последние два датафрейма так, чтобы для каждого автора было видно количество книг и средний рейтинг (Используйте функцию concat с параметром axis=1). Сохраните результат в переменную"
   ]
  },
  {
   "cell_type": "code",
   "execution_count": null,
   "id": "4c878e96",
   "metadata": {},
   "outputs": [],
   "source": []
  },
  {
   "cell_type": "markdown",
   "id": "20f767e4",
   "metadata": {},
   "source": [
    "#### Отсортируйте датафрейм по возрастающему количеству книг и возрастающему рейтингу (используйте функцию sort_values)"
   ]
  },
  {
   "cell_type": "code",
   "execution_count": null,
   "id": "672ed57a",
   "metadata": {},
   "outputs": [],
   "source": []
  },
  {
   "cell_type": "markdown",
   "id": "4a7ac57d",
   "metadata": {},
   "source": [
    "#### Ответ: Какой автор первый в списке?"
   ]
  },
  {
   "cell_type": "code",
   "execution_count": null,
   "id": "2fdb6195",
   "metadata": {},
   "outputs": [],
   "source": []
  }
 ],
 "metadata": {
  "kernelspec": {
   "display_name": "Python 3 (ipykernel)",
   "language": "python",
   "name": "python3"
  },
  "language_info": {
   "codemirror_mode": {
    "name": "ipython",
    "version": 3
   },
   "file_extension": ".py",
   "mimetype": "text/x-python",
   "name": "python",
   "nbconvert_exporter": "python",
   "pygments_lexer": "ipython3",
   "version": "3.10.2"
  }
 },
 "nbformat": 4,
 "nbformat_minor": 5
}
